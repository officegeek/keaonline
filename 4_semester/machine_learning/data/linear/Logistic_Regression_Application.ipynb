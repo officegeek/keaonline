{
 "cells": [
  {
   "cell_type": "markdown",
   "id": "be8d4483-6411-4707-9b84-d5a2699eaff2",
   "metadata": {},
   "source": [
    "# Example of Logistic Regression\n",
    "Your goal is to build a logistic regression model in Python in order to determine whether candidates would get admitted to a prestigious university.\n",
    "\n",
    "Here, there are two possible outcomes: Admitted (represented by the value of ‘1’) vs. Rejected (represented by the value of ‘0’).\n",
    "\n",
    "You can then build a logistic regression in Python, where:\n",
    "\n",
    "- The dependent variable represents whether a person gets admitted\n",
    "- The 3 independent variables are the GMAT score, GPA and Years of work experience"
   ]
  },
  {
   "cell_type": "code",
   "execution_count": 20,
   "id": "b0309d5f-6d05-42fb-abe8-54f054a6015d",
   "metadata": {
    "tags": []
   },
   "outputs": [],
   "source": [
    "#!pip3 install scikit-learn\n",
    "#!pip3 install seaborn"
   ]
  },
  {
   "cell_type": "code",
   "execution_count": 21,
   "id": "e1e03ee3-76e3-4d48-9688-6549c8da0e3b",
   "metadata": {},
   "outputs": [],
   "source": [
    "# Import Libaries\n",
    "import pandas as pd\n",
    "from sklearn.model_selection import train_test_split\n",
    "from sklearn.linear_model import LogisticRegression\n",
    "from sklearn import metrics\n",
    "import seaborn as sn\n",
    "import matplotlib.pyplot as plt"
   ]
  },
  {
   "cell_type": "markdown",
   "id": "2c4a1998-e996-47a1-9ccc-cafcb3f1f31c",
   "metadata": {},
   "source": [
    "# Data\n",
    "Note that the dataset contains 40 observations. In practice, you’ll need a larger sample size to get more accurate results."
   ]
  },
  {
   "cell_type": "code",
   "execution_count": 22,
   "id": "aee45983-ed6e-447a-baee-e272929bd29d",
   "metadata": {},
   "outputs": [
    {
     "name": "stdout",
     "output_type": "stream",
     "text": [
      "    gmat  gpa  work_experience  admitted\n",
      "0    780  4.0                3         1\n",
      "1    750  3.9                4         1\n",
      "2    690  3.3                3         0\n",
      "3    710  3.7                5         1\n",
      "4    680  3.9                4         0\n",
      "5    730  3.7                6         1\n",
      "6    690  2.3                1         0\n",
      "7    720  3.3                4         1\n",
      "8    740  3.3                5         1\n",
      "9    690  1.7                1         0\n",
      "10   610  2.7                3         0\n",
      "11   690  3.7                5         1\n",
      "12   710  3.7                6         1\n",
      "13   680  3.3                4         0\n",
      "14   770  3.3                3         1\n",
      "15   610  3.0                1         0\n",
      "16   580  2.7                4         0\n",
      "17   650  3.7                6         1\n",
      "18   540  2.7                2         0\n",
      "19   590  2.3                3         0\n",
      "20   620  3.3                2         1\n",
      "21   600  2.0                1         0\n",
      "22   550  2.3                4         0\n",
      "23   550  2.7                1         0\n",
      "24   570  3.0                2         0\n",
      "25   670  3.3                6         1\n",
      "26   660  3.7                4         1\n",
      "27   580  2.3                2         0\n",
      "28   650  3.7                6         1\n",
      "29   660  3.3                5         1\n",
      "30   640  3.0                1         0\n",
      "31   620  2.7                2         0\n",
      "32   660  4.0                4         1\n",
      "33   660  3.3                6         1\n",
      "34   680  3.3                5         1\n",
      "35   650  2.3                1         0\n",
      "36   670  2.7                2         0\n",
      "37   580  3.3                1         0\n",
      "38   590  1.7                4         0\n",
      "39   690  3.7                5         1\n"
     ]
    }
   ],
   "source": [
    "# Dataframe\n",
    "candidates = {'gmat': [780,750,690,710,680,730,690,720,740,690,610,690,710,680,770,610,580,650,540,590,620,600,550,550,570,670,660,580,650,660,640,620,660,660,680,650,670,580,590,690],\n",
    "              'gpa': [4,3.9,3.3,3.7,3.9,3.7,2.3,3.3,3.3,1.7,2.7,3.7,3.7,3.3,3.3,3,2.7,3.7,2.7,2.3,3.3,2,2.3,2.7,3,3.3,3.7,2.3,3.7,3.3,3,2.7,4,3.3,3.3,2.3,2.7,3.3,1.7,3.7],\n",
    "              'work_experience': [3,4,3,5,4,6,1,4,5,1,3,5,6,4,3,1,4,6,2,3,2,1,4,1,2,6,4,2,6,5,1,2,4,6,5,1,2,1,4,5],\n",
    "              'admitted': [1,1,0,1,0,1,0,1,1,0,0,1,1,0,1,0,0,1,0,0,1,0,0,0,0,1,1,0,1,1,0,0,1,1,1,0,0,0,0,1]\n",
    "              }\n",
    "\n",
    "df = pd.DataFrame(candidates,columns= ['gmat', 'gpa','work_experience','admitted'])\n",
    "print(df)"
   ]
  },
  {
   "cell_type": "markdown",
   "id": "d02faaa7-c5b0-46d7-8486-757be553007c",
   "metadata": {},
   "source": [
    "Set the independent variables (represented as X) and the dependent variable (represented as y)"
   ]
  },
  {
   "cell_type": "code",
   "execution_count": 23,
   "id": "ee1b4d9c-24ca-46c7-a723-35c673556a1b",
   "metadata": {},
   "outputs": [],
   "source": [
    "X = df[['gmat', 'gpa','work_experience']]\n",
    "y = df['admitted']"
   ]
  },
  {
   "cell_type": "markdown",
   "id": "5ba3d653-bd8a-4de8-948b-edc63bea8496",
   "metadata": {},
   "source": [
    "Apply train_test_split. For example, you can set the test size to 0.25. The model testing will be based on 25% of the dataset, while the model training will be based on 75% of the dataset"
   ]
  },
  {
   "cell_type": "code",
   "execution_count": 24,
   "id": "976a9af6-8bf2-40d4-871d-f9a0db8a2713",
   "metadata": {},
   "outputs": [],
   "source": [
    "X_train, X_test, y_train, y_test = train_test_split(X, y, test_size = 0.25, random_state = 0)"
   ]
  },
  {
   "cell_type": "markdown",
   "id": "b5bf4d53-711f-4e60-ae4a-695dd6660d94",
   "metadata": {},
   "source": [
    "### Apply the logistic regression"
   ]
  },
  {
   "cell_type": "code",
   "execution_count": 25,
   "id": "77517dbd-9385-498f-af83-bdbab8c20dfc",
   "metadata": {},
   "outputs": [],
   "source": [
    "logistic_regression = LogisticRegression()\n",
    "logistic_regression.fit(X_train, y_train)\n",
    "y_pred = logistic_regression.predict(X_test)"
   ]
  },
  {
   "cell_type": "markdown",
   "id": "ba4253d2-47f9-46f0-b0a4-b533dd706ba4",
   "metadata": {},
   "source": [
    "### Create the Confusion Matrix"
   ]
  },
  {
   "cell_type": "code",
   "execution_count": null,
   "id": "172d348b-302e-4126-97c6-88b72cdd99b6",
   "metadata": {},
   "outputs": [],
   "source": [
    "confusion_matrix = pd.crosstab(y_test, y_pred, rownames=['Actual'], colnames=['Predicted'])\n",
    "sn.heatmap(confusion_matrix, annot=True)\n",
    "\n",
    "print('Accuracy: ', metrics.accuracy_score(y_test, y_pred))\n",
    "plt.show()"
   ]
  },
  {
   "cell_type": "markdown",
   "id": "c7cfd54f-368f-43a1-8082-3f0847697e08",
   "metadata": {},
   "source": [
    "- Accuracy of 0.8\n",
    "- TP = True Positives = 4\n",
    "- TN = True Negatives = 4\n",
    "- FP = False Positives = 1\n",
    "- FN = False Negatives = 1\n",
    "\n",
    "Accuracy = (TP+TN)/Total = (4+4)/10 = 0.8\n",
    "\n",
    "The accuracy is therefore 80% for the test set"
   ]
  },
  {
   "cell_type": "markdown",
   "id": "2f71fa42-2564-47d0-9d44-82550f807590",
   "metadata": {},
   "source": [
    "### Analysing the Resulta"
   ]
  },
  {
   "cell_type": "code",
   "execution_count": null,
   "id": "0d1fdf4c-b6e2-4648-962e-8092b31e7871",
   "metadata": {},
   "outputs": [],
   "source": [
    "# Test data\n",
    "print (X_test)"
   ]
  },
  {
   "cell_type": "code",
   "execution_count": null,
   "id": "9c08b93c-da67-459e-b32c-c81b8bf8fbda",
   "metadata": {},
   "outputs": [],
   "source": [
    "# Prediction\n",
    "# 1 = admitted, while 0 = rejected\n",
    "print(y_pred)"
   ]
  },
  {
   "cell_type": "markdown",
   "id": "b8098774-3009-4726-8012-f0318052bc6e",
   "metadata": {},
   "source": [
    "### Checking the Prediction for a New Set of Data\n",
    "You have a new set of data, with 5 new candidates\n",
    "\n",
    "Your goal is to use the existing logistic regression model to predict whether the new candidates will get admitted."
   ]
  },
  {
   "cell_type": "code",
   "execution_count": null,
   "id": "0599bf9f-f26b-4e84-bb90-b0618e7c5145",
   "metadata": {},
   "outputs": [],
   "source": [
    "new_candidates = {'gmat': [590, 740, 680, 610, 710],\n",
    "                  'gpa': [2, 3.7, 3.3, 2.3 ,3],\n",
    "                  'work_experience': [3, 4, 6, 1, 5]\n",
    "                  }\n",
    "\n",
    "df2 = pd.DataFrame(new_candidates, columns = ['gmat', 'gpa', 'work_experience'])"
   ]
  },
  {
   "cell_type": "code",
   "execution_count": null,
   "id": "238eb241-f69a-405c-838d-c143deb6d0fa",
   "metadata": {},
   "outputs": [],
   "source": [
    "print(df2)"
   ]
  },
  {
   "cell_type": "code",
   "execution_count": null,
   "id": "779ae25d-a009-4e68-b276-9a58d67cedbc",
   "metadata": {},
   "outputs": [],
   "source": [
    "y_pred = logistic_regression.predict(df2)"
   ]
  },
  {
   "cell_type": "code",
   "execution_count": null,
   "id": "a569296f-afa7-4dd4-90b2-0c4116df508c",
   "metadata": {},
   "outputs": [],
   "source": [
    "print(df2)\n",
    "print(y_pred)"
   ]
  },
  {
   "cell_type": "markdown",
   "id": "538e5769-3d6b-4c04-a39d-201fd5a4b7da",
   "metadata": {},
   "source": [
    "The first and fourth candidates are not expected to be admitted, while the other candidates are expected to be admitted."
   ]
  }
 ],
 "metadata": {
  "kernelspec": {
   "display_name": "Python 3 (ipykernel)",
   "language": "python",
   "name": "python3"
  },
  "language_info": {
   "codemirror_mode": {
    "name": "ipython",
    "version": 3
   },
   "file_extension": ".py",
   "mimetype": "text/x-python",
   "name": "python",
   "nbconvert_exporter": "python",
   "pygments_lexer": "ipython3",
   "version": "3.11.3"
  }
 },
 "nbformat": 4,
 "nbformat_minor": 5
}
