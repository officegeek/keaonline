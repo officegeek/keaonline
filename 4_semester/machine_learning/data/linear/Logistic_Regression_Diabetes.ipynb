{
 "cells": [
  {
   "cell_type": "code",
   "execution_count": null,
   "id": "93481cb4-3fb2-43a3-a8b3-f8eb8628a590",
   "metadata": {
    "tags": []
   },
   "outputs": [],
   "source": [
    "# Import Libaries\n",
    "import pandas as pd\n",
    "from sklearn.model_selection import train_test_split\n",
    "from sklearn.linear_model import LogisticRegression\n",
    "from sklearn import metrics\n",
    "import seaborn as sn\n",
    "import matplotlib.pyplot as plt"
   ]
  },
  {
   "cell_type": "markdown",
   "id": "212258e2-9de3-42f6-8013-97e23b6ce8a8",
   "metadata": {},
   "source": [
    "# Data - diabetes\n",
    "\n",
    "- https://www.kaggle.com/saurabh00007/diabetescsv"
   ]
  },
  {
   "cell_type": "code",
   "execution_count": null,
   "id": "865f13ef-6817-4f99-8444-6a1837098363",
   "metadata": {
    "tags": []
   },
   "outputs": [],
   "source": [
    "# Data\n",
    "col_names = ['pregnant', 'glucose', 'bp', 'skin', 'insulin', 'bmi', 'pedigree', 'age', 'label']\n",
    "\n",
    "# load dataset\n",
    "pima = pd.read_csv(\"diabetes.csv\", skiprows=1, names=col_names)"
   ]
  },
  {
   "cell_type": "code",
   "execution_count": null,
   "id": "e7f95805-d7a1-47a9-b479-6b88f7e9f0a7",
   "metadata": {
    "tags": []
   },
   "outputs": [],
   "source": [
    "print(pima.head())\n",
    "print(f'shape: {pima.shape}')\n",
    "print(f'columns: {pima.columns}')"
   ]
  },
  {
   "cell_type": "markdown",
   "id": "844b23b0-7ce0-4226-97a3-4d02235a3fec",
   "metadata": {},
   "source": [
    "# Selecting Feature"
   ]
  },
  {
   "cell_type": "code",
   "execution_count": null,
   "id": "385b4b51-f722-43af-9e56-ce3c6f497633",
   "metadata": {
    "tags": []
   },
   "outputs": [],
   "source": [
    "feature_cols = ['pregnant', 'glucose', 'bp','skin', 'insulin', 'bmi', 'pedigree','age']\n",
    "X = pima[feature_cols] # Features\n",
    "y = pima.label # Target variable"
   ]
  },
  {
   "cell_type": "markdown",
   "id": "bee08e70-d2a2-4c8b-9fe4-1d5ae9466a93",
   "metadata": {},
   "source": [
    "# Splitting into Train and Test"
   ]
  },
  {
   "cell_type": "code",
   "execution_count": null,
   "id": "5615a3df-4b32-461a-a529-57587dd75cac",
   "metadata": {
    "tags": []
   },
   "outputs": [],
   "source": [
    "X_train, X_test, y_train, y_test = train_test_split(X, y, test_size = 0.25, random_state = 0)"
   ]
  },
  {
   "cell_type": "code",
   "execution_count": null,
   "id": "1c482320-7a39-4046-ace9-94c754632891",
   "metadata": {
    "tags": []
   },
   "outputs": [],
   "source": [
    "print(f'X_train: {X_train.shape}')\n",
    "print(f'y_train: {y_train.shape}')\n",
    "print(f'X_test: {X_test.shape}')\n",
    "print(f'y_test: {y_test.shape}')"
   ]
  },
  {
   "cell_type": "markdown",
   "id": "50bcea44-0715-4288-a1e0-1e9540aad681",
   "metadata": {},
   "source": [
    "# Train the Model"
   ]
  },
  {
   "cell_type": "code",
   "execution_count": null,
   "id": "80b60b45-2a29-4afc-92ff-6017bf78acca",
   "metadata": {
    "tags": []
   },
   "outputs": [],
   "source": [
    "# Instantiate the model (using the default parameters)\n",
    "lr = LogisticRegression()\n",
    "\n",
    "# Fit the model with data\n",
    "lr.fit(X_train, y_train)"
   ]
  },
  {
   "cell_type": "markdown",
   "id": "ce9df126-fc69-44a9-81e8-b59d61153841",
   "metadata": {},
   "source": [
    "# Predict with Test Dataset"
   ]
  },
  {
   "cell_type": "code",
   "execution_count": null,
   "id": "133c4a32-ac9d-4104-b991-c1cbcefb1c53",
   "metadata": {},
   "outputs": [],
   "source": [
    "y_pred = lr.predict(X_test)"
   ]
  },
  {
   "cell_type": "code",
   "execution_count": null,
   "id": "3e5802a0-5959-48a8-a66e-d7cc10af2151",
   "metadata": {},
   "outputs": [],
   "source": [
    "y_pred"
   ]
  },
  {
   "cell_type": "markdown",
   "id": "6d89f4f8-5128-44f9-8bb1-a68147317cd1",
   "metadata": {},
   "source": [
    "# Model Evaluation\n",
    "## Confusion Matrix"
   ]
  },
  {
   "cell_type": "code",
   "execution_count": null,
   "id": "8f7de0ee-4287-44c2-b1c3-d2b777e7108e",
   "metadata": {},
   "outputs": [],
   "source": [
    "cnf_matrix = metrics.confusion_matrix(y_test, y_pred)\n",
    "cnf_matrix\n",
    "\n",
    "confusion_matrix = pd.crosstab(y_test, y_pred, rownames=['Actual'], colnames=['Predicted'])\n",
    "sn.heatmap(confusion_matrix, annot=True)\n",
    "\n",
    "# Accuracy\n",
    "accuracyScore = metrics.accuracy_score(y_test, y_pred)\n",
    "print('Accuracy Score : ',accuracyScore)\n",
    "print('Accuracy In Percentage : ', int(accuracyScore*100), '%')\n",
    "\n",
    "plt.show()"
   ]
  },
  {
   "cell_type": "markdown",
   "id": "7aa71a6d-65f8-4d6e-ba3f-43a3d3802dcb",
   "metadata": {},
   "source": [
    "In the output, 120 and 37 are actual predictions, and 25 and 15 are incorrect predictions.\n",
    "\n",
    "- TP = True Positives = 120\n",
    "- TN = True Negatives = 37 \n",
    "- FP = False Positives = 25 (in Black/Dark Gray Block) \n",
    "- FN = False Negatives = 15 (in Black/Dark Gray Block) \n",
    "\n",
    "\n",
    "Accuracy = (TP+TN)/Total = (115+37)/192 = 0.79\n",
    "\n",
    "The accuracy is therefore 79% for the test set."
   ]
  }
 ],
 "metadata": {
  "kernelspec": {
   "display_name": "Python 3 (ipykernel)",
   "language": "python",
   "name": "python3"
  },
  "language_info": {
   "codemirror_mode": {
    "name": "ipython",
    "version": 3
   },
   "file_extension": ".py",
   "mimetype": "text/x-python",
   "name": "python",
   "nbconvert_exporter": "python",
   "pygments_lexer": "ipython3",
   "version": "3.11.3"
  }
 },
 "nbformat": 4,
 "nbformat_minor": 5
}
