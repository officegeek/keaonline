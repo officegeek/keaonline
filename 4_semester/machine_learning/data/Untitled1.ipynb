{
 "cells": [
  {
   "cell_type": "code",
   "execution_count": null,
   "id": "2351eee8-c4a5-4dfa-8fdd-38032c234322",
   "metadata": {},
   "outputs": [],
   "source": [
    "!pip uninstall mitoinstaller"
   ]
  },
  {
   "cell_type": "code",
   "execution_count": null,
   "id": "a484f236-7f1f-46f3-8806-fe0af5b3bd18",
   "metadata": {},
   "outputs": [],
   "source": []
  }
 ],
 "metadata": {
  "kernelspec": {
   "display_name": "Python 3 (ipykernel)",
   "language": "python",
   "name": "python3"
  },
  "language_info": {
   "codemirror_mode": {
    "name": "ipython",
    "version": 3
   },
   "file_extension": ".py",
   "mimetype": "text/x-python",
   "name": "python",
   "nbconvert_exporter": "python",
   "pygments_lexer": "ipython3",
   "version": "3.10.2"
  }
 },
 "nbformat": 4,
 "nbformat_minor": 5
}
