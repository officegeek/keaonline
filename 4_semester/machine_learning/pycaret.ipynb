{
 "cells": [
  {
   "cell_type": "code",
   "execution_count": 6,
   "id": "09d13c5e-f2b7-430f-9e97-9559eae65c99",
   "metadata": {},
   "outputs": [
    {
     "data": {
      "text/html": [
       "<div>\n",
       "<style scoped>\n",
       "    .dataframe tbody tr th:only-of-type {\n",
       "        vertical-align: middle;\n",
       "    }\n",
       "\n",
       "    .dataframe tbody tr th {\n",
       "        vertical-align: top;\n",
       "    }\n",
       "\n",
       "    .dataframe thead th {\n",
       "        text-align: right;\n",
       "    }\n",
       "</style>\n",
       "<table border=\"1\" class=\"dataframe\">\n",
       "  <thead>\n",
       "    <tr style=\"text-align: right;\">\n",
       "      <th></th>\n",
       "      <th>Age</th>\n",
       "      <th>Income</th>\n",
       "      <th>SpendingScore</th>\n",
       "      <th>Savings</th>\n",
       "    </tr>\n",
       "  </thead>\n",
       "  <tbody>\n",
       "    <tr>\n",
       "      <th>0</th>\n",
       "      <td>58</td>\n",
       "      <td>77769</td>\n",
       "      <td>0.791329</td>\n",
       "      <td>6559.829923</td>\n",
       "    </tr>\n",
       "    <tr>\n",
       "      <th>1</th>\n",
       "      <td>59</td>\n",
       "      <td>81799</td>\n",
       "      <td>0.791082</td>\n",
       "      <td>5417.661426</td>\n",
       "    </tr>\n",
       "    <tr>\n",
       "      <th>2</th>\n",
       "      <td>62</td>\n",
       "      <td>74751</td>\n",
       "      <td>0.702657</td>\n",
       "      <td>9258.992965</td>\n",
       "    </tr>\n",
       "    <tr>\n",
       "      <th>3</th>\n",
       "      <td>59</td>\n",
       "      <td>74373</td>\n",
       "      <td>0.765680</td>\n",
       "      <td>7346.334504</td>\n",
       "    </tr>\n",
       "    <tr>\n",
       "      <th>4</th>\n",
       "      <td>87</td>\n",
       "      <td>17760</td>\n",
       "      <td>0.348778</td>\n",
       "      <td>16869.507130</td>\n",
       "    </tr>\n",
       "  </tbody>\n",
       "</table>\n",
       "</div>"
      ],
      "text/plain": [
       "   Age  Income  SpendingScore       Savings\n",
       "0   58   77769       0.791329   6559.829923\n",
       "1   59   81799       0.791082   5417.661426\n",
       "2   62   74751       0.702657   9258.992965\n",
       "3   59   74373       0.765680   7346.334504\n",
       "4   87   17760       0.348778  16869.507130"
      ]
     },
     "metadata": {},
     "output_type": "display_data"
    }
   ],
   "source": [
    "from pycaret.datasets import get_data\n",
    "data = get_data('jewellery')"
   ]
  },
  {
   "cell_type": "code",
   "execution_count": 7,
   "id": "8c8db210-760e-4068-9ae5-526c7579749e",
   "metadata": {},
   "outputs": [
    {
     "data": {
      "text/html": [
       "<style type=\"text/css\">\n",
       "#T_38367_row4_col1, #T_38367_row9_col1 {\n",
       "  background-color: lightgreen;\n",
       "}\n",
       "</style>\n",
       "<table id=\"T_38367\">\n",
       "  <thead>\n",
       "    <tr>\n",
       "      <th class=\"blank level0\" >&nbsp;</th>\n",
       "      <th id=\"T_38367_level0_col0\" class=\"col_heading level0 col0\" >Description</th>\n",
       "      <th id=\"T_38367_level0_col1\" class=\"col_heading level0 col1\" >Value</th>\n",
       "    </tr>\n",
       "  </thead>\n",
       "  <tbody>\n",
       "    <tr>\n",
       "      <th id=\"T_38367_level0_row0\" class=\"row_heading level0 row0\" >0</th>\n",
       "      <td id=\"T_38367_row0_col0\" class=\"data row0 col0\" >Session id</td>\n",
       "      <td id=\"T_38367_row0_col1\" class=\"data row0 col1\" >4026</td>\n",
       "    </tr>\n",
       "    <tr>\n",
       "      <th id=\"T_38367_level0_row1\" class=\"row_heading level0 row1\" >1</th>\n",
       "      <td id=\"T_38367_row1_col0\" class=\"data row1 col0\" >Original data shape</td>\n",
       "      <td id=\"T_38367_row1_col1\" class=\"data row1 col1\" >(505, 4)</td>\n",
       "    </tr>\n",
       "    <tr>\n",
       "      <th id=\"T_38367_level0_row2\" class=\"row_heading level0 row2\" >2</th>\n",
       "      <td id=\"T_38367_row2_col0\" class=\"data row2 col0\" >Transformed data shape</td>\n",
       "      <td id=\"T_38367_row2_col1\" class=\"data row2 col1\" >(505, 4)</td>\n",
       "    </tr>\n",
       "    <tr>\n",
       "      <th id=\"T_38367_level0_row3\" class=\"row_heading level0 row3\" >3</th>\n",
       "      <td id=\"T_38367_row3_col0\" class=\"data row3 col0\" >Numeric features</td>\n",
       "      <td id=\"T_38367_row3_col1\" class=\"data row3 col1\" >4</td>\n",
       "    </tr>\n",
       "    <tr>\n",
       "      <th id=\"T_38367_level0_row4\" class=\"row_heading level0 row4\" >4</th>\n",
       "      <td id=\"T_38367_row4_col0\" class=\"data row4 col0\" >Preprocess</td>\n",
       "      <td id=\"T_38367_row4_col1\" class=\"data row4 col1\" >True</td>\n",
       "    </tr>\n",
       "    <tr>\n",
       "      <th id=\"T_38367_level0_row5\" class=\"row_heading level0 row5\" >5</th>\n",
       "      <td id=\"T_38367_row5_col0\" class=\"data row5 col0\" >Imputation type</td>\n",
       "      <td id=\"T_38367_row5_col1\" class=\"data row5 col1\" >simple</td>\n",
       "    </tr>\n",
       "    <tr>\n",
       "      <th id=\"T_38367_level0_row6\" class=\"row_heading level0 row6\" >6</th>\n",
       "      <td id=\"T_38367_row6_col0\" class=\"data row6 col0\" >Numeric imputation</td>\n",
       "      <td id=\"T_38367_row6_col1\" class=\"data row6 col1\" >mean</td>\n",
       "    </tr>\n",
       "    <tr>\n",
       "      <th id=\"T_38367_level0_row7\" class=\"row_heading level0 row7\" >7</th>\n",
       "      <td id=\"T_38367_row7_col0\" class=\"data row7 col0\" >Categorical imputation</td>\n",
       "      <td id=\"T_38367_row7_col1\" class=\"data row7 col1\" >constant</td>\n",
       "    </tr>\n",
       "    <tr>\n",
       "      <th id=\"T_38367_level0_row8\" class=\"row_heading level0 row8\" >8</th>\n",
       "      <td id=\"T_38367_row8_col0\" class=\"data row8 col0\" >Low variance threshold</td>\n",
       "      <td id=\"T_38367_row8_col1\" class=\"data row8 col1\" >0</td>\n",
       "    </tr>\n",
       "    <tr>\n",
       "      <th id=\"T_38367_level0_row9\" class=\"row_heading level0 row9\" >9</th>\n",
       "      <td id=\"T_38367_row9_col0\" class=\"data row9 col0\" >Normalize</td>\n",
       "      <td id=\"T_38367_row9_col1\" class=\"data row9 col1\" >True</td>\n",
       "    </tr>\n",
       "    <tr>\n",
       "      <th id=\"T_38367_level0_row10\" class=\"row_heading level0 row10\" >10</th>\n",
       "      <td id=\"T_38367_row10_col0\" class=\"data row10 col0\" >Normalize method</td>\n",
       "      <td id=\"T_38367_row10_col1\" class=\"data row10 col1\" >zscore</td>\n",
       "    </tr>\n",
       "    <tr>\n",
       "      <th id=\"T_38367_level0_row11\" class=\"row_heading level0 row11\" >11</th>\n",
       "      <td id=\"T_38367_row11_col0\" class=\"data row11 col0\" >CPU Jobs</td>\n",
       "      <td id=\"T_38367_row11_col1\" class=\"data row11 col1\" >-1</td>\n",
       "    </tr>\n",
       "    <tr>\n",
       "      <th id=\"T_38367_level0_row12\" class=\"row_heading level0 row12\" >12</th>\n",
       "      <td id=\"T_38367_row12_col0\" class=\"data row12 col0\" >Use GPU</td>\n",
       "      <td id=\"T_38367_row12_col1\" class=\"data row12 col1\" >False</td>\n",
       "    </tr>\n",
       "    <tr>\n",
       "      <th id=\"T_38367_level0_row13\" class=\"row_heading level0 row13\" >13</th>\n",
       "      <td id=\"T_38367_row13_col0\" class=\"data row13 col0\" >Log Experiment</td>\n",
       "      <td id=\"T_38367_row13_col1\" class=\"data row13 col1\" >False</td>\n",
       "    </tr>\n",
       "    <tr>\n",
       "      <th id=\"T_38367_level0_row14\" class=\"row_heading level0 row14\" >14</th>\n",
       "      <td id=\"T_38367_row14_col0\" class=\"data row14 col0\" >Experiment Name</td>\n",
       "      <td id=\"T_38367_row14_col1\" class=\"data row14 col1\" >cluster-default-name</td>\n",
       "    </tr>\n",
       "    <tr>\n",
       "      <th id=\"T_38367_level0_row15\" class=\"row_heading level0 row15\" >15</th>\n",
       "      <td id=\"T_38367_row15_col0\" class=\"data row15 col0\" >USI</td>\n",
       "      <td id=\"T_38367_row15_col1\" class=\"data row15 col1\" >42d2</td>\n",
       "    </tr>\n",
       "  </tbody>\n",
       "</table>\n"
      ],
      "text/plain": [
       "<pandas.io.formats.style.Styler at 0x1b78a7fa3b0>"
      ]
     },
     "metadata": {},
     "output_type": "display_data"
    }
   ],
   "source": [
    "from pycaret.clustering import *\n",
    "s = setup(data, normalize = True)"
   ]
  },
  {
   "cell_type": "code",
   "execution_count": 8,
   "id": "70f0ee00-11e6-433e-9ff6-8074310ff049",
   "metadata": {},
   "outputs": [
    {
     "data": {
      "text/html": [],
      "text/plain": [
       "<IPython.core.display.HTML object>"
      ]
     },
     "metadata": {},
     "output_type": "display_data"
    },
    {
     "data": {
      "text/html": [
       "<style type=\"text/css\">\n",
       "</style>\n",
       "<table id=\"T_a5d19\">\n",
       "  <thead>\n",
       "    <tr>\n",
       "      <th class=\"blank level0\" >&nbsp;</th>\n",
       "      <th id=\"T_a5d19_level0_col0\" class=\"col_heading level0 col0\" >Silhouette</th>\n",
       "      <th id=\"T_a5d19_level0_col1\" class=\"col_heading level0 col1\" >Calinski-Harabasz</th>\n",
       "      <th id=\"T_a5d19_level0_col2\" class=\"col_heading level0 col2\" >Davies-Bouldin</th>\n",
       "      <th id=\"T_a5d19_level0_col3\" class=\"col_heading level0 col3\" >Homogeneity</th>\n",
       "      <th id=\"T_a5d19_level0_col4\" class=\"col_heading level0 col4\" >Rand Index</th>\n",
       "      <th id=\"T_a5d19_level0_col5\" class=\"col_heading level0 col5\" >Completeness</th>\n",
       "    </tr>\n",
       "  </thead>\n",
       "  <tbody>\n",
       "    <tr>\n",
       "      <th id=\"T_a5d19_level0_row0\" class=\"row_heading level0 row0\" >0</th>\n",
       "      <td id=\"T_a5d19_row0_col0\" class=\"data row0 col0\" >0.7581</td>\n",
       "      <td id=\"T_a5d19_row0_col1\" class=\"data row0 col1\" >1611.2647</td>\n",
       "      <td id=\"T_a5d19_row0_col2\" class=\"data row0 col2\" >0.3743</td>\n",
       "      <td id=\"T_a5d19_row0_col3\" class=\"data row0 col3\" >0</td>\n",
       "      <td id=\"T_a5d19_row0_col4\" class=\"data row0 col4\" >0</td>\n",
       "      <td id=\"T_a5d19_row0_col5\" class=\"data row0 col5\" >0</td>\n",
       "    </tr>\n",
       "  </tbody>\n",
       "</table>\n"
      ],
      "text/plain": [
       "<pandas.io.formats.style.Styler at 0x1b7f2d70c40>"
      ]
     },
     "metadata": {},
     "output_type": "display_data"
    },
    {
     "data": {
      "application/vnd.jupyter.widget-view+json": {
       "model_id": "",
       "version_major": 2,
       "version_minor": 0
      },
      "text/plain": [
       "Processing:   0%|          | 0/3 [00:00<?, ?it/s]"
      ]
     },
     "metadata": {},
     "output_type": "display_data"
    }
   ],
   "source": [
    "kmeans = create_model('kmeans')"
   ]
  },
  {
   "cell_type": "code",
   "execution_count": 9,
   "id": "b2dc2846-259e-4d1a-b8a0-3a0591db55d7",
   "metadata": {},
   "outputs": [
    {
     "data": {
      "application/vnd.jupyter.widget-view+json": {
       "model_id": "7e62c21455224fd08bd2e40eae056389",
       "version_major": 2,
       "version_minor": 0
      },
      "text/plain": [
       "interactive(children=(ToggleButtons(description='Plot Type:', icons=('',), options=(('Pipeline Plot', 'pipelin…"
      ]
     },
     "metadata": {},
     "output_type": "display_data"
    }
   ],
   "source": [
    "evaluate_model(kmeans)"
   ]
  },
  {
   "cell_type": "code",
   "execution_count": null,
   "id": "f5668774-8ed2-44b9-a177-2cb9201c50c5",
   "metadata": {},
   "outputs": [],
   "source": []
  }
 ],
 "metadata": {
  "kernelspec": {
   "display_name": "Python 3 (ipykernel)",
   "language": "python",
   "name": "python3"
  },
  "language_info": {
   "codemirror_mode": {
    "name": "ipython",
    "version": 3
   },
   "file_extension": ".py",
   "mimetype": "text/x-python",
   "name": "python",
   "nbconvert_exporter": "python",
   "pygments_lexer": "ipython3",
   "version": "3.10.2"
  }
 },
 "nbformat": 4,
 "nbformat_minor": 5
}
