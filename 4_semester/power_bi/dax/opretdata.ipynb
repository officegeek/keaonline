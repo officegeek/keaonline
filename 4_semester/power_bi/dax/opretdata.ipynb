{
 "cells": [
  {
   "cell_type": "code",
   "execution_count": 1,
   "id": "de8ea1fb-c735-4fe4-a4fc-2f1752e865de",
   "metadata": {
    "tags": []
   },
   "outputs": [
    {
     "name": "stdout",
     "output_type": "stream",
     "text": [
      "Data gemt til CSV-filer.\n"
     ]
    }
   ],
   "source": []
  },
  {
   "cell_type": "code",
   "execution_count": 3,
   "id": "ca6ae578-7046-4519-a9a1-983672d2737c",
   "metadata": {
    "tags": []
   },
   "outputs": [
    {
     "name": "stdout",
     "output_type": "stream",
     "text": [
      "Data gemt til CSV-filer.\n"
     ]
    }
   ],
   "source": [
    "# Importerer nødvendige biblioteker\n",
    "import pandas as pd\n",
    "import numpy as np\n",
    "from datetime import datetime, timedelta\n",
    "import random\n",
    "\n",
    "# Definerer produkter og deres tilknyttede kategorier\n",
    "produkt_kategorier = {\n",
    "    \"QuantumX Pro\": \"Hardware\",\n",
    "    \"SkyNet Router\": \"Hardware\",\n",
    "    \"EcoSmart Thermostat\": \"Hardware\",\n",
    "    \"Aurora LED Panel\": \"Hardware\",\n",
    "    \"Neptune Water Filter\": \"Tilbehør\",\n",
    "    \"SolarFlare Charger\": \"Tilbehør\",\n",
    "    \"GigaStream Modem\": \"Hardware\",\n",
    "    \"TerraFirma GPS Tracker\": \"Tilbehør\",\n",
    "    \"LunarLight Projector\": \"Tilbehør\",\n",
    "    \"CyberShield Antivirus\": \"Software\"\n",
    "}\n",
    "\n",
    "# Definerer leverandører\n",
    "leverandorer = [\"Nordic Tech Solutions\", \"Green Energy Innovations\", \"Advanced Home Gadgets\", \"EcoFriendly Electronics\",\n",
    "                \"FutureTech Supplies\", \"SmartLiving Products\", \"HighTech Horizons\", \"NextGen Equipments\",\n",
    "                \"EcoTech Enterprises\", \"Innovative Device Makers\"]\n",
    "\n",
    "# Opretter tilfældige data for 'AlleData'\n",
    "np.random.seed(0)  # Sikrer konsistente tilfældige resultater\n",
    "antal_dage = 100  # Antal dage at generere data for\n",
    "start_dato = datetime(2023, 1, 1)  # Startdato for data\n",
    "regioner = [\"København\", \"Århus\", \"Odense\", \"Aalborg\"]  # Mulige regioner\n",
    "\n",
    "alle_data = {\n",
    "    \"Dato\": [start_dato + timedelta(days=i) for i in range(antal_dage) for _ in produkt_kategorier],\n",
    "    \"Produkt\": [p for _ in range(antal_dage) for p in produkt_kategorier],\n",
    "    \"Kategori\": [produkt_kategorier[p] for _ in range(antal_dage) for p in produkt_kategorier],\n",
    "    \"Region\": [random.choice(regioner) for _ in range(antal_dage * len(produkt_kategorier))],\n",
    "    \"AntalSolgteEnheder\": np.random.randint(1, 50, antal_dage * len(produkt_kategorier)),\n",
    "    \"Salgsbeloeb\": np.random.randint(1000, 10000, antal_dage * len(produkt_kategorier))\n",
    "}\n",
    "\n",
    "alle_data_df = pd.DataFrame(alle_data)\n",
    "\n",
    "# Opretter 'ProduktInfo' tabel\n",
    "produkt_info = {\n",
    "    \"Produkt\": list(produkt_kategorier.keys()),\n",
    "    \"Pris\": np.random.randint(500, 5000, len(produkt_kategorier)),\n",
    "    \"Leverandør\": random.choices(leverandorer, k=len(produkt_kategorier))\n",
    "}\n",
    "\n",
    "produkt_info_df = pd.DataFrame(produkt_info)\n",
    "\n",
    "# Gemmer data til CSV-filer\n",
    "alle_data_df.to_csv(\"alle_data.csv\", index=False)\n",
    "produkt_info_df.to_csv(\"produkt_info.csv\", index=False)\n",
    "\n",
    "print(\"Data gemt til CSV-filer.\")\n"
   ]
  },
  {
   "cell_type": "code",
   "execution_count": 5,
   "id": "91f534cd-6393-4a3f-aabc-0c622c17eb2c",
   "metadata": {
    "tags": []
   },
   "outputs": [
    {
     "name": "stdout",
     "output_type": "stream",
     "text": [
      "Data gemt til CSV-filer.\n"
     ]
    }
   ],
   "source": [
    "# Importerer nødvendige biblioteker\n",
    "import pandas as pd\n",
    "import numpy as np\n",
    "from datetime import datetime, timedelta\n",
    "import random\n",
    "\n",
    "# Definerer produkter og deres tilknyttede kategorier\n",
    "produkt_kategorier = {\n",
    "    \"QuantumX Pro\": \"Hardware\",\n",
    "    \"SkyNet Router\": \"Hardware\",\n",
    "    \"EcoSmart Thermostat\": \"Hardware\",\n",
    "    \"Aurora LED Panel\": \"Hardware\",\n",
    "    \"Neptune Water Filter\": \"Tilbehør\",\n",
    "    \"SolarFlare Charger\": \"Tilbehør\",\n",
    "    \"GigaStream Modem\": \"Hardware\",\n",
    "    \"TerraFirma GPS Tracker\": \"Tilbehør\",\n",
    "    \"LunarLight Projector\": \"Tilbehør\",\n",
    "    \"CyberShield Antivirus\": \"Software\"\n",
    "}\n",
    "\n",
    "# Definerer leverandører\n",
    "leverandorer = [\"Nordic Tech Solutions\", \"Green Energy Innovations\", \"Advanced Home Gadgets\", \"EcoFriendly Electronics\",\n",
    "                \"FutureTech Supplies\", \"SmartLiving Products\", \"HighTech Horizons\", \"NextGen Equipments\",\n",
    "                \"EcoTech Enterprises\", \"Innovative Device Makers\"]\n",
    "\n",
    "# Opretter tilfældige data for 'AlleData'\n",
    "np.random.seed(0)  # Sikrer konsistente tilfældige resultater\n",
    "antal_dage = 323  # Antal dage at generere data for\n",
    "start_dato = datetime(2023, 1, 1)  # Startdato for data\n",
    "regioner = [\"København\", \"Århus\", \"Odense\", \"Aalborg\"]  # Mulige regioner\n",
    "\n",
    "alle_data = {\n",
    "    \"Dato\": [start_dato + timedelta(days=i) for i in range(antal_dage) for _ in produkt_kategorier],\n",
    "    \"Produkt\": [p for _ in range(antal_dage) for p in produkt_kategorier],\n",
    "    \"Kategori\": [produkt_kategorier[p] for _ in range(antal_dage) for p in produkt_kategorier],\n",
    "    \"Region\": [random.choice(regioner) for _ in range(antal_dage * len(produkt_kategorier))],\n",
    "    \"AntalSolgteEnheder\": np.random.randint(1, 50, antal_dage * len(produkt_kategorier))\n",
    "}\n",
    "\n",
    "alle_data_df = pd.DataFrame(alle_data)\n",
    "\n",
    "# Opretter 'ProduktInfo' tabel\n",
    "produkt_info = {\n",
    "    \"Produkt\": list(produkt_kategorier.keys()),\n",
    "    \"Pris\": np.random.randint(500, 5000, len(produkt_kategorier)),\n",
    "    \"Leverandør\": random.choices(leverandorer, k=len(produkt_kategorier))\n",
    "}\n",
    "\n",
    "produkt_info_df = pd.DataFrame(produkt_info)\n",
    "\n",
    "# Gemmer data til CSV-filer\n",
    "alle_data_df.to_csv(\"alle_data.csv\", index=False)\n",
    "produkt_info_df.to_csv(\"produkt_info.csv\", index=False)\n",
    "\n",
    "print(\"Data gemt til CSV-filer.\")\n"
   ]
  },
  {
   "cell_type": "code",
   "execution_count": null,
   "id": "3ba3fc71-ad2a-415a-9584-e4ff2974247f",
   "metadata": {},
   "outputs": [],
   "source": []
  }
 ],
 "metadata": {
  "kernelspec": {
   "display_name": "Python 3 (ipykernel)",
   "language": "python",
   "name": "python3"
  },
  "language_info": {
   "codemirror_mode": {
    "name": "ipython",
    "version": 3
   },
   "file_extension": ".py",
   "mimetype": "text/x-python",
   "name": "python",
   "nbconvert_exporter": "python",
   "pygments_lexer": "ipython3",
   "version": "3.11.3"
  }
 },
 "nbformat": 4,
 "nbformat_minor": 5
}
